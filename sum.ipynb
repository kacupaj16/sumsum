{
 "cells": [
  {
   "cell_type": "code",
   "execution_count": 1,
   "metadata": {},
   "outputs": [],
   "source": [
    "from utils import TTS"
   ]
  },
  {
   "cell_type": "code",
   "execution_count": 2,
   "metadata": {},
   "outputs": [
    {
     "name": "stdout",
     "output_type": "stream",
     "text": [
      "INIT\n"
     ]
    }
   ],
   "source": [
    "im_cp = TTS()\n",
    "im_cp.set_translate = False"
   ]
  },
  {
   "cell_type": "code",
   "execution_count": 3,
   "metadata": {},
   "outputs": [
    {
     "name": "stderr",
     "output_type": "stream",
     "text": [
      "100%|█████████████████████████████████████| 72.1M/72.1M [00:19<00:00, 3.86MiB/s]\n"
     ]
    },
    {
     "name": "stdout",
     "output_type": "stream",
     "text": [
      "Chunk length: -1\n",
      "Length video: 522418\n",
      "Chunks video: 1\n",
      "Chunk files: ['temp_branding_goodwork.mp4/00000.mp3']\n",
      "Loading audio\n"
     ]
    },
    {
     "name": "stderr",
     "output_type": "stream",
     "text": [
      "c:\\Users\\krise\\miniconda3\\envs\\sci\\Lib\\site-packages\\whisper\\transcribe.py:126: UserWarning: FP16 is not supported on CPU; using FP32 instead\n",
      "  warnings.warn(\"FP16 is not supported on CPU; using FP32 instead\")\n"
     ]
    },
    {
     "name": "stdout",
     "output_type": "stream",
     "text": [
      "Time till transcription completed:\t38.8246169090271 s\n"
     ]
    },
    {
     "data": {
      "text/plain": [
       "\" For worse or for worse, celebrities are the epicenter of our culture.\\n We follow their every move, worshiping in the views of their comment section, hoping that one day our favorite might run us over with a Mac truck.\\n Please flatten me, Mitsky.\\n But recently, despite already doing so much, celebrities have decided to do even more much.\\n So, strap in youth thirsty fanboys and fan girls.\\n Today we examine the most popular trend that our most popular people can't get enough of, starting a business.\\n Why the fuck?\\n Back in the good old days, celebrities that did brand deals were considered sellouts.\\n I still haven't forgiven you for doing that Super Mario commercial Penelope cruise.\\n Stop calling me to beg for forgiveness.\\n But now celebrities aren't just endorsing brands.\\n They're creating and owning the brands themselves.\\n And for some reason, we're all cool with that.\\n All of our term on a tequila.\\n Aviation Jins Casa Migos.\\n Her own tequila brand skims.\\n Betty Beauty.\\n When we started Goot.\\n You're on whiskey.\\n The Nihos age for 18 months.\\n Get like whiskey was the best space to do that in.\\n So energy.\\n On his co-founder, Chief Creative Officer.\\n Three main shampoo and conditioner families.\\n And I'm introducing y'all to my brand new jeans.\\n Santo, if you haven't tried it, you gotta check it out.\\n It's just a lot.\\n And if you think that's a lot, just look at Mark Wahlberg's Instagram.\\n It's always been the dream municipal.\\n When you're building a brand, you have to represent the brand everyday.\\n The Fit Jack drip check.\\n Got the drip check.\\n Why is the drip man?\\n The Fit Jack is that drip.\\n All this design, I got me a drip drip.\\n Got that Fit drip.\\n We had the drip spot.\\n Another drip check.\\n Look at the drawers.\\n Ooh, drawers.\\n Get the shoes.\\n The shorts.\\n Check it out.\\n Oh my god.\\n Bye.\\n Team municipal.\\n See that?\\n That part.\\n Get the municipal right there.\\n So how'd...\\n What?\\n I do think our values as a culture have shifted tremendously from the 90s, which we were still dealing with the Gen X, you know?\\n Don't sell out to the man, vibes.\\n And now, everybody is just embracing the desire to be wealthy AF.\\n Emily Hayward is the co-founder of Red Antler, a creative agency famous for designing and marketing brands like Allbirds, Casper, and Hinge.\\n Douglas at the relationship, famous people have traditionally had with brands evolved throughout the 2010s, from endorsement to investment and straight-up ownership.\\n And now it seems like every featured player on some mid-Hulu show has their own line of cruelty-free, all natural, to kill a face wash.\\n Well, the biggest benefit for having your own brand is your faculty in this brand.\\n We've put the question of why celebrities are so hot for brands to Nick Sharma, who runs an agency that launches and scales Ecommerce businesses, often for the famous.\\n So you're not just getting a check or a small percentage of the sales of drive, you have equity in the entire company.\\n So a larger bag, shitter. Exactly. You get a bigger bag.\\n But brands appear just as eager to go into business with celebrities, famously great co-workers, because who wouldn't want to collab on a slide deck with the island boys?\\n I mean, you basically need two things for a business. You need product and distribution.\\n The product has always been the more commoditized or easier part to get.\\n distribution is constantly gotten harder. Try to cut through the nose.\\n And so with a celebrity, one tweet, one Instagram post, one YouTube video, can drive hundreds of thousands of people to the website.\\n And you've now solved the problem distribution.\\n The rapid progression of business and celebrity's symbiotic relationship makes sense when contextualized within the rise of social media.\\n In before times, advertisers could woo customers during some boring boomershick called TV shows.\\n People used to watch TV shows through something called cable.\\n And during those shows, companies would do little comedy sketches and try to sell you insurance.\\n These were called commercials.\\n But after the social media boom, any influencer with a dedicated following became a better avenue for companies to directly connect with an audience.\\n That audience is even larger when you're a bona fide celebrity instead of some half-rate social media personality.\\n It feels like a new start up is launching every day.\\n And celebrities like it or not have an incredible platform.\\n It's like an immediate fast forward button.\\n So for any company, getting a celebrity involved is basically a cheat code.\\n It's even more of a cheat code when the famous person says they're helping build that business.\\n The ultimate endorsement or at least it used to be.\\n Every brand at this point wants to go tap a celebrity because they're like, well, shoot.\\n The cost to acquire customer online has tripled in the last couple years.\\n You know, why don't we bring in a chief creative officer?\\n And she happens to have five million followers because she's an actor.\\n Whatever it might be.\\n Kyle Cook is the star of Bravo's reality TV show Summer House.\\n And he's also the founder and CEO of Loverboy, a company that makes sparkling heart tea.\\n That was a sentence.\\n If every brand's doing that, then that's the new normal.\\n And then that is no longer appointed differentiation.\\n And then the question is, which brands have celebrities that are actually doing stuff behind the scenes?\\n Actually, putting in work that translates to a more authentic celebrity.\\n Brand.\\n In the year of our lower 2023, bagging a celebrity and slapping their face on a square space site is no longer enough.\\n According to Kyle, now you need a celebrity with a Sigma grind set.\\n If you had like this well polished, you know, alcohol company and it's like,\\n I, you know, I just slap my name on something.\\n And now I want my, you know, the audience and fans of the show to go buy it.\\n No, that's been done a thousand times.\\n I wanted to go on this journey myself as an entrepreneur.\\n What are your day-to-day responsibilities like for Loverboy?\\n You know, I'm, I'm in the weeds.\\n So I'm putting in 18 hour days, six, seven days a week.\\n Like the only time off I had from running my company used to actually film TV.\\n And last year I filmed three TV shows.\\n So listen up celebrities, your days of launching some half-ass brand that has nothing to do with you hiring a manic 24 year old in Bushwick to post on your socials and laughing all the way to the bank are over.\\n I speak for all of us when I say if we are going to see a new shitty tequila brand get launched.\\n When we thought we were going to get a breaking bad reboot, we're all going to have a meeting and pick new famous people.\\n Hey, to use this buzzword, but I think it's the only appropriate one here.\\n It has to feel authentic.\\n It can't feel like this was just a deal put together almost like a 90s boy band.\\n Or someone's like, oh, I'm going to pick this celebrity over here and that brand over there and like mash it up.\\n You can almost always predict a celebrity brand in the do well by how involved a celebrity is at the get.\\n If it is something where they're just coming in for approval meetings, it's almost guaranteed it's not going to work.\\n That's right.\\n Celebrities, if you're going to in and in with more brands, take a note from influencers and choose a brand that actually has something to do with your personality.\\n Something like, I don't know, if Timothy Schallame launched a line of spindly little Victorian nightgowns.\\n It's not enough to tell us you bought an alcohol company because you want to bring people together.\\n That's literally the most celebrity thing you could say and it's why we make fun of you.\\n But don't be mad at me.\\n If anything, you should be thanking me.\\n I'm saving you from being ravaged on the battlefields of capitalism by Rihanna, Brian Reynolds,\\n the ghost of Paul Newman, and reality TV star Kyle Ficking Cook.\\n That guy's a monster.\\n You think you can outbrand Kyle Cook fat chance Paul Dannell.\\n So you're welcome celebrities.\\n And in case you were wondering, yes, I am available for cameos on any show for you.\\n On any show featured on a legitimate streaming platform, just not YouTube.\\n I'm trying to get out of here.\\n Please help me.\\n So Kyle, talk to me about your up ring.\\n Right? You're a new handsher guy.\\n 6.03.1.\\n Area code.\\n What?\\n What?\\n What?\\n What?\\n What?\\n We're literally in the middle of the night.\\n Stop.\\n Don't be okay.\\n Don't be okay.\\n Stop.\\n Are you drinking?\\n I'm drinking.\\n I'm not.\\n I'm just trying to say it.\\n Don't worry.\\n Pick it up.\\n Kyle, Kyle, come back.\\n No.\\n Take a beat.\\n Take a beat.\\n Is this like an actual office?\\n The hair like incredibly professional.\\n I just want professionals.\\n Right?\\n And we weren't getting that from Henry today.\\n From the moment Dan showed up to the house this summer,\\n he made it clear that he wants to be best friends with Kyle.\\n Tim and look.\\n Alright, I got mad at you back there.\\n But when we can't have effort in these.\\n You know how you got a little self-conscious because you're always on camera.\\n Yeah, not really to be on camera.\\n Yeah.\\n We'll get a trench coat.\\n Alright.\\n Well.\\n Bye.\\n\""
      ]
     },
     "execution_count": 3,
     "metadata": {},
     "output_type": "execute_result"
    }
   ],
   "source": [
    "im_cp.subtitles_video(filename='branding_goodwork.mp4',is_url=False,url='https://youtu.be/DyRjpoBL9aI?si=5msxGmyZ2k64hKzz') "
   ]
  },
  {
   "cell_type": "code",
   "execution_count": null,
   "metadata": {},
   "outputs": [],
   "source": []
  },
  {
   "cell_type": "code",
   "execution_count": null,
   "metadata": {},
   "outputs": [],
   "source": []
  },
  {
   "cell_type": "code",
   "execution_count": null,
   "metadata": {},
   "outputs": [],
   "source": []
  },
  {
   "cell_type": "code",
   "execution_count": null,
   "metadata": {},
   "outputs": [],
   "source": []
  }
 ],
 "metadata": {
  "kernelspec": {
   "display_name": "sci",
   "language": "python",
   "name": "python3"
  },
  "language_info": {
   "codemirror_mode": {
    "name": "ipython",
    "version": 3
   },
   "file_extension": ".py",
   "mimetype": "text/x-python",
   "name": "python",
   "nbconvert_exporter": "python",
   "pygments_lexer": "ipython3",
   "version": "3.12.3"
  }
 },
 "nbformat": 4,
 "nbformat_minor": 2
}
